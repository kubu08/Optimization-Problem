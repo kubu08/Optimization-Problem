{
 "cells": [
  {
   "cell_type": "markdown",
   "metadata": {},
   "source": [
    "# Computational Methods in Economics (WiSe 2018/19)\n",
    "\n",
    "## Exam Question"
   ]
  },
  {
   "cell_type": "markdown",
   "metadata": {},
   "source": [
    "*NOTE*: Please submit the answer to this question as a Jupyter notebook named **CME_*lastname*.ipynb** to schmitt@ifo.de by **Tuesday, February 12, 4:00 pm**. You should only submit **one** file (**.ipynb**) that contains all relevant code! \n",
    "\n",
    "Please define any function from the lecture notes explicitly in the beginning of your notebook. In other words, do not import **funapprox_cme**!"
   ]
  },
  {
   "cell_type": "code",
   "execution_count": 1,
   "metadata": {
    "collapsed": true
   },
   "outputs": [],
   "source": [
    "import numpy as np\n",
    "import scipy.optimize\n",
    "\n",
    "import matplotlib.pyplot as plt\n",
    "%matplotlib inline\n",
    "import seaborn"
   ]
  },
  {
   "cell_type": "markdown",
   "metadata": {},
   "source": [
    "Consider a growth model without capital. Instead, output is produced using labor and energy. Energy comes in two forms, a \"dirty\" and a \"clean\" variant. Using dirty energy $e_t$ causes emissions of a pollutant and hence a *pollution externality*: it contributes to a stock of the pollutant which negatively affects production. Apart from this negative productivity effect, there is no other cost of dirty energy use. In contrast, clean energy $r_t$ does not cause pollution, but has a constant marginal cost $\\rho$, paid in output units. \n",
    "\n",
    "Formally, per-period utility is given by:\n",
    "\n",
    "\\begin{equation}\n",
    "    u(c_t, h_t) = \\frac{c_t^{1-\\nu}}{1-\\nu} - B \\frac{h_t^{1+\\eta}}{1+\\eta}\n",
    "\\end{equation}\n",
    "\n",
    "Output is given by\n",
    "\n",
    "\\begin{equation}\n",
    "    y_t = D(s_t) f(e_{t}, r_t, h_t) = D(s_t) A e_t^\\alpha r_t^\\gamma h_{t}^{1-\\alpha - \\gamma}\n",
    "\\end{equation}\n",
    "\n",
    "where $s_t$ denotes the pollution stock. $D(s_t)$ is called a damage function: it reduces available output, to an extent which depends on the size of the pollution stock. We assume the following functional form:\n",
    "\n",
    "\\begin{equation}\n",
    "    D(s_{t}) = \\exp(- s_t)\n",
    "\\end{equation}\n",
    "\n",
    "$s_t$ evolves according to the following law of motion:\n",
    "\n",
    "\\begin{equation}\n",
    "    s_{t + 1} = \\phi s_t + e_t\n",
    "\\end{equation}\n",
    "\n",
    "In other words, a share $(1 - \\phi)$ of the current pollution stock depreciates every period. The remaining share, together with the current dirty energy use/emissions $e_t$, makes up the pollution stock in the subsequent period.\n",
    "\n",
    "The planner's problem reads\n",
    "\n",
    "\\begin{equation}\n",
    "    \\max_{\\left\\{c_t, h_t, e_t, r_t, s_{t+1}\\right\\}} \\sum^\\infty_{t = 0} \\beta^t \\left[\\frac{c_t^{1-\\nu}}{1-\\nu} - B \\frac{h_t^{1+\\eta}}{1+\\eta} \\right]\n",
    "\\end{equation}\n",
    "\n",
    "s.t. the resource constraint and the law of motion for $s_t$:\n",
    "\n",
    "\\begin{equation}\n",
    "    c_t = \\exp(-s_t) A e_t^\\alpha r_t^\\gamma h_{t}^{1-\\alpha - \\gamma} - \\rho r_t\n",
    "\\end{equation}\n",
    "\\begin{equation}\n",
    "    s_{t + 1} = \\phi s_t + e_t\n",
    "\\end{equation}\n",
    "\n",
    "(As a side note, this model is not well-suited for representing climate change, but rather a more short-term production externality, e.g. air pollution.)\n",
    "\n",
    "\n",
    "(a) Using the parameter values below, compute the steady state of the model. \n",
    "\n",
    "*Hint*: For comparison, you get the following steady state values:\n",
    "\n",
    "\\begin{equation}\n",
    "    (e_s, r_s, h_s) = (0.1528, 0.2504, 1.2444)\n",
    "\\end{equation}\n",
    "\n",
    "(b) Use dynamic programming to solve the model, given the initial pollution stock $s_0 = 0.05$. Derive approximations to the policy functions and simulate the economy for $T = 30$. Compare the resulting time series to their corresponding steady state values.\n",
    "\n",
    "*Hint*: For value function iteration, you can use $V^{(0)}(s) = - s^2$ as initial guess. "
   ]
  },
  {
   "cell_type": "code",
   "execution_count": 2,
   "metadata": {
    "collapsed": true
   },
   "outputs": [],
   "source": [
    "## utility\n",
    "beta = 0.9      # discount factor\n",
    "nu = 2          # risk-aversion coefficient for consumption\n",
    "eta = 1         # elasticity parameter for labor supply\n",
    "B = 1\n",
    "\n",
    "## production\n",
    "alpha = 0.25\n",
    "gamma = 0.05\n",
    "A = 1\n",
    "\n",
    "rho = 0.1       # marginal cost of clean energy\n",
    "phi = 0.5       # share of pollutant that remains in the air between two periods\n",
    "\n",
    "## initial values\n",
    "s0 = 0.05\n",
    "\n",
    "params = {'beta': beta, 'nu': nu, 'eta': eta, 'alpha': alpha, 'gamma': gamma,\n",
    "          'phi': phi, 'rho': rho, 'A': A, 'B': B }"
   ]
  },
  {
   "cell_type": "markdown",
   "metadata": {},
   "source": [
    "---------------------------------------------------------------------------------------------------------------------------------"
   ]
  }
 ],
 "metadata": {
  "kernelspec": {
   "display_name": "Python 3",
   "language": "python",
   "name": "python3"
  },
  "language_info": {
   "codemirror_mode": {
    "name": "ipython",
    "version": 3
   },
   "file_extension": ".py",
   "mimetype": "text/x-python",
   "name": "python",
   "nbconvert_exporter": "python",
   "pygments_lexer": "ipython3",
   "version": "3.7.0"
  }
 },
 "nbformat": 4,
 "nbformat_minor": 2
}
